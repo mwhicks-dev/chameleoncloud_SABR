{
 "cells": [
  {
   "cell_type": "markdown",
   "id": "radical-reason",
   "metadata": {},
   "source": [
    "# Performing SDN-assisted Adaptive Bit Rate streaming (SABR)\n",
    "\n",
    "## Overview:\n",
    "\n",
    "This Jupyter environment was used to recreate _Network Assisted Content Distribution for Adaptive Bitrate\n",
    "Video Streaming_ experiment by Divyashri Bhat, Amr Rizk, Michael Zink, and Ralf Steinmetz (DOI: http://dx.doi.org/10.1145/3083187.3083196)\n",
    "\n",
    "## Prerequisites\n",
    "\n",
    "This tutorial assumes that you have created two leases in Chameleon:\n",
    "\n",
    "- A lease for 5 node and (optional) 1 floating IP\n",
    "- A lease for several nodes\n",
    "\n",
    "These leases contain your server node and your client nodes respectively. You can reserve these resources using the Chameleon Cloud web interface, or using the python-chi library which allows access of Chameleon resources through Python. If you don't know how to reserve these resources on python-chi, a great tutorial on how to reserve and use networking resources can be found in the [Python Create Isolated VLAN](../../tutorials/networking/Python-Networking-CreateIsolatedVLAN.ipynb) tutorial.\n",
    "\n",
    "It is strongly encouraged that this experiment is run out of the [chameleoncloud_SABR](https://github.com/mwhicks-dev/chameleoncloud_SABR) experimental repository as some files references can be found there, and have been linked appropriately in this notebook."
   ]
  },
  {
   "cell_type": "markdown",
   "id": "pediatric-pickup",
   "metadata": {},
   "source": [
    "## Configure the Environment"
   ]
  },
  {
   "cell_type": "markdown",
   "id": "growing-internship",
   "metadata": {},
   "source": [
    "### Configure Environment Variables\n",
    "\n",
    "Modify all of the variables below to match your resources and Chameleon configuration."
   ]
  },
  {
   "cell_type": "code",
   "execution_count": null,
   "id": "contrary-grave",
   "metadata": {},
   "outputs": [],
   "source": [
    "import json\n",
    "import os\n",
    "import chi\n",
    "\n",
    "import chi.lease as lease_manager\n",
    "import chi.server as server_manager\n",
    "import chi.network as networking_manager\n",
    "\n",
    "from datetime import datetime, timedelta\n",
    "from dateutil import tz\n",
    "\n",
    "# Configure project and sites\n",
    "project_name = 'CH-822154'  # In form of CH-XXXXXX\n",
    "site = 'CHI@TACC'  # In form of CHI@site\n",
    "\n",
    "# Configure SSH keypair\n",
    "key_name = 'my_chameleon_key'  # Configure with your keypair's name on Chameleon\n",
    "key_extension = '.pem'  # Configure with your keypair file's actual extension if it has one (e.g. '.pem')\n",
    "key_path = '/Users/{}/.ssh/my_chameleon_key_tacc.pem'.format(os.getenv(\"USER\"))  # Path to key file in this container associated with key_name\n",
    "\n",
    "# Configure Resource Names\n",
    "# Tip: Name resources with your username for easier identification\n",
    "username = 'mwhicks2'\n",
    "server_username = username + '_ABVS_Server'\n",
    "server_lease_name = server_username + '_Lease'\n",
    "server_node_name = server_username + '_Node'\n",
    "cache_username = username + '_ABVS_Cache'\n",
    "cache_lease_name = cache_username + '_Lease'\n",
    "cache_node_name = cache_username + '_Node'\n",
    "client_username = username + '_ABVS_Client'\n",
    "client_lease_name = client_username + '_Lease'\n",
    "client_node_name = client_username + '_Node_'\n",
    "\n",
    "# Configure Server\n",
    "image_name='CC-Ubuntu16.04'\n",
    "flavor_name='baremetal'\n",
    "network_name='sharednet1'\n",
    "\n",
    "# Configure conditional variables\n",
    "VERBOSE = True  # If set to True, this program will produce more output\n",
    "LAZY = True  # If set to True, this program will only require 75% of the client nodes to be running in order to perform the experiment."
   ]
  },
  {
   "cell_type": "markdown",
   "id": "incredible-zambia",
   "metadata": {},
   "source": [
    "### Launch Server and Caches\n",
    "\n",
    "Using the server lease defined in prerequisites, create a server node with a floating IP address."
   ]
  },
  {
   "cell_type": "markdown",
   "id": "increasing-marina",
   "metadata": {},
   "source": [
    "##### Get the Lease\n",
    "\n",
    "Get the lease ID and the lease corresponding to the name provided in the environment variables cell"
   ]
  },
  {
   "cell_type": "code",
   "execution_count": null,
   "id": "voluntary-volleyball",
   "metadata": {},
   "outputs": [],
   "source": [
    "# Set project/site\n",
    "chi.set('project_name', project_name)\n",
    "chi.use_site(site)\n",
    "\n",
    "# Get the lease ID and lease by name\n",
    "server_lease_id = lease_manager.get_lease_id(server_lease_name)\n",
    "server_lease = lease_manager.get_lease(server_lease_id)\n",
    "\n",
    "if VERBOSE:\n",
    "    print(json.dumps(server_lease, indent=2))\n",
    "else:\n",
    "    print('server_lease: {}, server_lease_id: {}'.format(server_lease['name'], server_lease_id))"
   ]
  },
  {
   "cell_type": "markdown",
   "id": "adequate-parking",
   "metadata": {},
   "source": [
    "##### Get the Compute Reservation\n",
    "\n",
    "The compute reservation ID will be needed to launch our server node. We find the ID by pulling the ID from the physical host reservation in our lease."
   ]
  },
  {
   "cell_type": "code",
   "execution_count": null,
   "id": "nuclear-caution",
   "metadata": {},
   "outputs": [],
   "source": [
    "# Get the compute reservation from the lease\n",
    "server_compute_reservation_id = list(filter(lambda reservation: reservation['resource_type'] == 'physical:host', server_lease['reservations']))[0]['id']\n",
    "\n",
    "print(\"server_compute_reservation_id: {}\".format(server_compute_reservation_id))"
   ]
  },
  {
   "cell_type": "markdown",
   "id": "million-alarm",
   "metadata": {},
   "source": [
    "#### Start the Server Node\n",
    "\n",
    "Now, we have all of the information needed to launch our server node."
   ]
  },
  {
   "cell_type": "code",
   "execution_count": null,
   "id": "aggressive-syndication",
   "metadata": {},
   "outputs": [],
   "source": [
    "# Create the server\n",
    "server_node = server_manager.create_server(server_node_name, \n",
    "                       reservation_id=server_compute_reservation_id, \n",
    "                       key_name=key_name, \n",
    "                       network_name=network_name, \n",
    "                       image_name=image_name, \n",
    "                       flavor_name=flavor_name)\n",
    "\n",
    "print('{} id: {}'.format(server_node.name, server_node.id))"
   ]
  },
  {
   "cell_type": "markdown",
   "id": "concrete-workstation",
   "metadata": {},
   "source": [
    "#### Start the Cache Nodes\n",
    "\n",
    "We can also launch our cache nodes."
   ]
  },
  {
   "cell_type": "code",
   "execution_count": null,
   "id": "painted-faith",
   "metadata": {},
   "outputs": [],
   "source": [
    "# Create the server\n",
    "size = 4\n",
    "cache_nodes = []\n",
    "for i in range(0, size):\n",
    "    cache_node = server_manager.create_server(cache_node_name + str(i),\n",
    "                       reservation_id=server_compute_reservation_id, \n",
    "                       key_name=key_name, \n",
    "                       network_name=network_name, \n",
    "                       image_name=image_name, \n",
    "                       flavor_name=flavor_name)\n",
    "    if VERBOSE:\n",
    "        print('{} id: {}'.format(cache_node.name, cache_node.id))\n",
    "    cache_nodes.append(cache_node)"
   ]
  },
  {
   "cell_type": "markdown",
   "id": "capital-wagner",
   "metadata": {},
   "source": [
    "### Launch Clients\n",
    "\n",
    "Using the client lease defined in prerequisites, create several client nodes."
   ]
  },
  {
   "cell_type": "markdown",
   "id": "armed-chapel",
   "metadata": {},
   "source": [
    "##### Get the Lease\n",
    "\n",
    "Get the lease ID and the lease corresponding to the name provided in the environment variables cell"
   ]
  },
  {
   "cell_type": "code",
   "execution_count": null,
   "id": "appreciated-warner",
   "metadata": {},
   "outputs": [],
   "source": [
    "# Set project/site\n",
    "chi.set('project_name', project_name)\n",
    "chi.use_site(site)\n",
    "\n",
    "# Get the lease ID and lease by name\n",
    "client_lease_id = lease_manager.get_lease_id(client_lease_name)\n",
    "client_lease = lease_manager.get_lease(client_lease_id)\n",
    "\n",
    "if VERBOSE:\n",
    "    print(json.dumps(client_lease, indent=2))\n",
    "else:\n",
    "    print('server_lease: {}, server_lease_id: {}'.format(client_lease['name'], client_lease_id))"
   ]
  },
  {
   "cell_type": "markdown",
   "id": "becoming-writing",
   "metadata": {},
   "source": [
    "##### Get the Compute Reservation\n",
    "\n",
    "The compute reservation ID will be needed to launch our client nodes. We find the ID by pulling the ID from the physical host reservation in our lease."
   ]
  },
  {
   "cell_type": "code",
   "execution_count": null,
   "id": "concrete-residence",
   "metadata": {},
   "outputs": [],
   "source": [
    "# Get the compute reservation from the lease\n",
    "client_compute_reservation_id = list(filter(lambda reservation: reservation['resource_type'] == 'physical:host', client_lease['reservations']))[0]['id']\n",
    "\n",
    "print(\"client_compute_reservation_id: {}\".format(client_compute_reservation_id))"
   ]
  },
  {
   "cell_type": "markdown",
   "id": "detailed-opening",
   "metadata": {},
   "source": [
    "##### Start the Client Nodes\n",
    "\n",
    "This is a bit more tricky than creating the server node. Your client lease has several physical nodes allocated, and we are intending to launch all of them. We go about this by creating each node, and appending it to the end of a list so that they can be accessed later. Using a list will also make it easy for us to clean up our nodes later."
   ]
  },
  {
   "cell_type": "code",
   "execution_count": null,
   "id": "broad-terry",
   "metadata": {},
   "outputs": [],
   "source": [
    "# Create the server\n",
    "size = list(filter(lambda reservation: reservation['resource_type'] == 'physical:host', client_lease['reservations']))[0]['max']  # Find number of reserved nodes from lease\n",
    "client_nodes = []\n",
    "for i in range(0, size):\n",
    "    client_node = server_manager.create_server(client_node_name + str(i),\n",
    "                       reservation_id=client_compute_reservation_id, \n",
    "                       key_name=key_name, \n",
    "                       network_name=network_name, \n",
    "                       image_name=image_name, \n",
    "                       flavor_name=flavor_name)\n",
    "    if VERBOSE:\n",
    "        print('{} id: {}'.format(client_node.name, client_node.id))\n",
    "    client_nodes.append(client_node)"
   ]
  },
  {
   "cell_type": "markdown",
   "id": "available-latter",
   "metadata": {},
   "source": [
    "### Server Networking Setup\n",
    "\n",
    "We will be accessing the server node directly using the `fabric2` library. Consequently, we need two conditions to be met before effectively being able to resume the program:\n",
    "\n",
    "1. The server node must be active and running\n",
    "2. The server node must have a floating IP attached to it\n",
    "\n",
    "Without these two conditions, we will not be able to access our server in order to conduct experiments."
   ]
  },
  {
   "cell_type": "markdown",
   "id": "leading-thanks",
   "metadata": {},
   "source": [
    "##### Wait for Server Node\n",
    "\n",
    "We need to wait for the server to have an `ACTIVE` status to resume computation. If the status is `ERROR` or the server cannot be found, an error will be raised."
   ]
  },
  {
   "cell_type": "code",
   "execution_count": null,
   "id": "sunset-wonder",
   "metadata": {},
   "outputs": [],
   "source": [
    "import dateutil.parser as parse\n",
    "from dateutil import tz\n",
    "from datetime import datetime\n",
    "import time\n",
    "\n",
    "MAX_LAUNCH_TIME = 15  # minutes\n",
    "\n",
    "# Reducing duplicate code using a status getter\n",
    "def get_status( node_id ):\n",
    "    node = server_manager.get_server(node_id)\n",
    "    launch_date = parse.isoparse(node.created)\n",
    "    now = datetime.now(tz=tz.tzutc())\n",
    "    diff = now - launch_date\n",
    "    minutes = diff.total_seconds() / 60\n",
    "    status = node.status\n",
    "    if VERBOSE:\n",
    "        print('Node {} Status: {}, Age: {}'.format(node.name, status, diff))\n",
    "    return minutes, status\n",
    "\n",
    "# Wait until server status is ACTIVE or ERROR\n",
    "minutes, status = get_status(server_node.id)\n",
    "while ( status != 'ACTIVE' ):\n",
    "    if ( status == 'ERROR' or minutes > MAX_LAUNCH_TIME ):\n",
    "        raise Exception('Node {} has ERROR status.'.format(server_node_name))\n",
    "    minutes, status = get_status(server_node.id)\n",
    "    if status != 'ACTIVE':\n",
    "        time.sleep(60)"
   ]
  },
  {
   "cell_type": "markdown",
   "id": "nasty-promotion",
   "metadata": {},
   "source": [
    "##### Associate Floating IP to Server\n",
    "\n",
    "The server node is remotely accessed using `fabric2`. To be able to do this, the server must have a floating IP address that allows us to connect from a different network."
   ]
  },
  {
   "cell_type": "code",
   "execution_count": null,
   "id": "blond-maker",
   "metadata": {},
   "outputs": [],
   "source": [
    "try:\n",
    "    server_floating_ip = server_manager.associate_floating_ip(server_node.id)\n",
    "    if VERBOSE:\n",
    "        print('Server Floating IP: {}'.format(server_floating_ip))\n",
    "except Exception as e:\n",
    "    output = 'The server {} raised an exception while attaching a floating IP.\\n Reason: '.format(server_node_name)\n",
    "    output += str(e)\n",
    "    raise Exception(output)"
   ]
  },
  {
   "cell_type": "markdown",
   "id": "electronic-navigator",
   "metadata": {},
   "source": [
    "### Client Networking Setup\n",
    "\n",
    "We will be accessing our client nodes as a series of local hops from the server node. As a result, we do not need to associate a floating IP address for these nodes - however, we do need to carefully document the fixed IP addresses of each client node. Before proceeding, we will need to ensure the following condition:\n",
    "\n",
    "* All client nodes must be active and running\n",
    "\n",
    "However, this must not always be met. In the environment variables configuration cell, there is one variable called `LAZY`. If this variable is set to **True**, then as long as the percentage of running servers is >= 75% the program will not throw an error."
   ]
  },
  {
   "cell_type": "markdown",
   "id": "unknown-irrigation",
   "metadata": {},
   "source": [
    "##### Wait for Client Nodes\n",
    "\n",
    "We need to wait for each client node to have the `ACTIVE` status. If `LAZY`, then we are also fine with a node having `ERROR` status unless more than 25% of nodes have it. Otherwise, or if not `LAZY`, an error will be thrown on `ERROR` status."
   ]
  },
  {
   "cell_type": "code",
   "execution_count": null,
   "id": "durable-thread",
   "metadata": {},
   "outputs": [],
   "source": [
    "# Define threshold as well as active nodes array\n",
    "if LAZY:\n",
    "    error_threshold = len(client_nodes) / 4\n",
    "    error_counter = 0\n",
    "active_client_nodes = []\n",
    "\n",
    "# Wait until all client node statuses are ACTIVE or ERROR\n",
    "for client_node in client_nodes:\n",
    "    client_node_id = client_node.id\n",
    "    minutes, status = get_status(client_node_id)\n",
    "    while ( status != 'ACTIVE' ):\n",
    "        if ( status == 'ERROR' or minutes > MAX_LAUNCH_TIME ):\n",
    "            if LAZY:\n",
    "                error_counter += 1\n",
    "                if error_counter > error_threshold:\n",
    "                    raise Exception('At least {} client nodes have ERROR status.'.format(error_counter))\n",
    "            else:\n",
    "                raise Exception('Node {} has ERROR status.'.format(client_node.name))\n",
    "            break\n",
    "        minutes, status = get_status(client_node_id)\n",
    "        if status != 'ACTIVE':\n",
    "            time.sleep(60)\n",
    "    if status == 'ACTIVE':\n",
    "        active_client_nodes.append(client_node)"
   ]
  },
  {
   "cell_type": "markdown",
   "id": "excessive-independence",
   "metadata": {},
   "source": [
    "### Experiment Configuration\n",
    "\n",
    "Now that all of our nodes are up and running, there are several things that we need to do before we can run our experiment. Most of these things are done to the server, but one is done to the client, too.\n",
    "\n",
    "Within the [chameleoncloud_SABR](https://github.com/mwhicks-dev/chameleoncloud_SABR) experimental repository, there are five scripts which allow for us to import our scripts without the clutter of having them all in this notebook. This and similar reasons are why we *strongly* encourage running the experiment from this repository."
   ]
  },
  {
   "cell_type": "markdown",
   "id": "perceived-blackjack",
   "metadata": {},
   "source": [
    "##### Fabric Setup\n",
    "\n",
    "We need to import `fabric2`'s `Connection` tool. This will allow for us to SSH into our server node and run scripts.\n",
    "\n",
    "We also must establish a dictionary `key` containing the path to our SSH key defined in the environment variables configuration cell. This is passed into `fabric3` so that we can access the secured node, which has been set up behind that SSH key."
   ]
  },
  {
   "cell_type": "code",
   "execution_count": null,
   "id": "unlimited-poker",
   "metadata": {},
   "outputs": [],
   "source": [
    "import paramiko\n",
    "from fabric2 import Connection\n",
    "\n",
    "key = {\n",
    "    \"key_filename\": key_path,\n",
    "}\n",
    "\n",
    "with Connection(host=server_floating_ip, user=\"cc\", connect_kwargs=key) as c:\n",
    "    print('Attempting to access client...')\n",
    "    with Connection(host=server_floating_ip, user=\"cc\", connect_kwargs=key) as c:\n",
    "        c.put(local=key_path, remote='.ssh/my_chameleon_key.pem')\n",
    "    print('Success')"
   ]
  },
  {
   "cell_type": "markdown",
   "id": "seventh-saskatchewan",
   "metadata": {},
   "source": [
    "##### Clients Setup\n",
    "\n",
    "In order to perform client actions, the client nodes must be given the AStream GitHub repository. AStream is a command-line based video streaming service that works well for experimental systems with no graphical user interface. For more information, see https://github.com/pari685/AStream.git. Slight modifications were made to AStream to convert the program from Python 2 to Python 3; the edited version can be found at https://github.com/abstractionAlpha/AStream.git."
   ]
  },
  {
   "cell_type": "code",
   "execution_count": null,
   "id": "coupled-belgium",
   "metadata": {},
   "outputs": [],
   "source": [
    "user='cc'\n",
    "port=22\n",
    "\n",
    "# Set up script environment\n",
    "client_setup = '#!/bin/bash\\n'\n",
    "client_setup += 'USER={}\\n'.format(user)\n",
    "client_setup += 'PORT_NUMBER={}\\n'.format(port)\n",
    "client_setup += 'KEY_NAME={}.pem\\n'.format(key_name)\n",
    "active_client_ips = []\n",
    "for node in active_client_nodes:\n",
    "    active_client_ips.append(server_manager.get_host_ip(node.id))\n",
    "client_setup += 'CLIENT_IPS=({})\\n'.format(str(active_client_ips)[1:-1]).replace(\",\", \"\")  # Adds all characters except for the brackets Python list to-string\n",
    "\n",
    "# Import script execution\n",
    "handle = open('./scripts/client_setup.txt')\n",
    "for line in handle.readlines():\n",
    "    client_setup += line\n",
    "handle.close()"
   ]
  },
  {
   "cell_type": "code",
   "execution_count": null,
   "id": "destroyed-surgeon",
   "metadata": {},
   "outputs": [],
   "source": [
    "with Connection(host=server_floating_ip, user=user, connect_kwargs=key) as c:\n",
    "    c.run(client_setup)"
   ]
  },
  {
   "cell_type": "markdown",
   "id": "chinese-hacker",
   "metadata": {},
   "source": [
    "##### Caches Setup\n",
    "\n",
    "We have 4 cache nodes that initially contain nothing, but will in time contain whatever is requested from them."
   ]
  },
  {
   "cell_type": "code",
   "execution_count": null,
   "id": "consistent-polyester",
   "metadata": {},
   "outputs": [],
   "source": [
    "# Set up script environment\n",
    "caches = '#!/bin/bash\\n'\n",
    "caches += 'USER={}\\n'.format(user)\n",
    "caches += 'PORT_NUMBER={}\\n'.format(port)\n",
    "caches += 'KEY_NAME={}{}\\n'.format(key_name, key_extension)\n",
    "cache_ips = []\n",
    "for node in cache_nodes:\n",
    "    cache_ips.append(server_manager.get_host_ip(node.id))\n",
    "caches += 'CACHE_IPS=({})\\n'.format(str(cache_ips)[1:-1]).replace(\",\", \"\")  # Adds all characters except for the brackets Python list to-string\n",
    "\n",
    "# Import script execution\n",
    "handle = open('./scripts/caches.txt')\n",
    "for line in handle.readlines():\n",
    "    caches += line\n",
    "handle.close()"
   ]
  },
  {
   "cell_type": "code",
   "execution_count": null,
   "id": "passive-mouth",
   "metadata": {},
   "outputs": [],
   "source": [
    "with Connection(host=server_floating_ip, user=user, connect_kwargs=key) as c:\n",
    "    c.run(caches)"
   ]
  },
  {
   "cell_type": "markdown",
   "id": "governmental-walker",
   "metadata": {},
   "source": [
    "##### Server Setup\n",
    "\n",
    "The paper linked in the top of this notebook contains instructions for repeatability within its appendix on page 13. We follow these instructions very closely in order to make sure all needed packages and repositories are installed by the server."
   ]
  },
  {
   "cell_type": "code",
   "execution_count": null,
   "id": "statutory-aaron",
   "metadata": {},
   "outputs": [],
   "source": [
    "of_port = str(6653)\n",
    "\n",
    "# Set up script environments\n",
    "controller = '#!/bin/bash\\n'\n",
    "\n",
    "clients = '#!/bin/bash\\n'\n",
    "\n",
    "orchestration = '#!/bin/bash\\n'\n",
    "orchestration += 'PORT_NUMBER={}\\n'.format(of_port)\n",
    "orchestration += 'CONTROLLER_IP={}\\n'.format(server_floating_ip)\n",
    "ovs_tags = ['1a', '2a', '2b', '3a', '3b', '3c', '3d', '4a', '4b', '4c', '4d']\n",
    "orchestration += 'OVS_TAGS=({})\\n'.format(str(ovs_tags)[1:-1])  # Adds all tags and does not include brackets from Python list to-string\n",
    "\n",
    "# Import script executions\n",
    "handle = open('./scripts/controller.txt')\n",
    "for line in handle.readlines():\n",
    "    controller += line\n",
    "handle.close()\n",
    "\n",
    "handle = open('./scripts/clients.txt')\n",
    "for line in handle.readlines():\n",
    "    clients += line\n",
    "handle.close()\n",
    "\n",
    "handle = open('./scripts/orchestration.txt')\n",
    "for line in handle.readlines():\n",
    "    orchestration += line\n",
    "handle.close()"
   ]
  },
  {
   "cell_type": "code",
   "execution_count": null,
   "id": "retired-delta",
   "metadata": {},
   "outputs": [],
   "source": [
    "scripts = [controller, orchestration, clients]\n",
    "index = 0"
   ]
  },
  {
   "cell_type": "code",
   "execution_count": null,
   "id": "another-outdoors",
   "metadata": {},
   "outputs": [],
   "source": [
    "with Connection(host=server_floating_ip, user=\"cc\", connect_kwargs=key) as c:\n",
    "    if index < len( scripts ):\n",
    "        c.run(scripts[ index ])\n",
    "        index += 1\n",
    "    else:\n",
    "        print(\"All scripts ran\")"
   ]
  },
  {
   "cell_type": "markdown",
   "id": "dcc46180-c2f9-4f48-a79b-23f97e28feb2",
   "metadata": {},
   "source": [
    "### Experiment Execution\n",
    "\n",
    "Now that all of our nodes have been adequately set up, we can finally run our experiment!"
   ]
  },
  {
   "cell_type": "markdown",
   "id": "39700172-4941-4374-b1ff-f72e1b9734a7",
   "metadata": {},
   "source": [
    "#### Automate SABR\n",
    "\n",
    "We have modified a script provided by Bhat et. al. that artificially runs the SABR framework and stores relevant results in the server node. Similar to our node set-up scripts, we will create a new script that runs the framework based off of existing variables, and then run this on the controller (server) node."
   ]
  },
  {
   "cell_type": "code",
   "execution_count": null,
   "id": "314dbbdd-7967-4b16-97f9-0b83371bfc52",
   "metadata": {},
   "outputs": [],
   "source": [
    "# Set up Python variables\n",
    "raw_clients = ''\n",
    "for i in active_client_ips:\n",
    "    raw_clients += i\n",
    "    raw_clients += ' '\n",
    "raw_clients = raw_clients[0:-1]\n",
    "\n",
    "raw_caches = ''\n",
    "for i in cache_ips:\n",
    "    raw_caches += i\n",
    "    raw_caches += ' '\n",
    "raw_caches = raw_caches[0:-1]\n",
    "\n",
    "server_ip = server_manager.get_host_ip(server_node.id)\n",
    "\n",
    "# Set up script environment\n",
    "automate_sabr = '#!/bin/bash\\n'\n",
    "automate_sabr += 'KEY_NAME={}\\n'.format(key_name)\n",
    "automate_sabr += 'CLIENT_IPS={}\\n'.format(raw_clients)\n",
    "automate_sabr += 'CACHE_IPS={}\\n'.format(raw_caches)\n",
    "automate_sabr += 'SERVER_IP={}\\n'.format(key_name)\n",
    "\n",
    "# Import script execution\n",
    "handle = open('./scripts/automate_sabr.txt')\n",
    "for line in handle.readlines():\n",
    "    automate_sabr += line\n",
    "handle.close()"
   ]
  },
  {
   "cell_type": "code",
   "execution_count": null,
   "id": "ce09146e-2df9-405a-a280-839c39485de7",
   "metadata": {},
   "outputs": [],
   "source": [
    "with Connection(host=server_floating_ip, user=\"cc\", connect_kwargs=key) as c:\n",
    "    c.run(automate_sabr)"
   ]
  },
  {
   "cell_type": "markdown",
   "id": "herbal-month",
   "metadata": {},
   "source": [
    "### Clean Up\n",
    "\n",
    "Clean up your resources when you are finished with them."
   ]
  },
  {
   "cell_type": "markdown",
   "id": "institutional-trick",
   "metadata": {},
   "source": [
    "##### Delete Server Node\n",
    "\n",
    "Delete your server node when experimentation is complete."
   ]
  },
  {
   "cell_type": "code",
   "execution_count": null,
   "id": "moral-vegetarian",
   "metadata": {},
   "outputs": [],
   "source": [
    "server_manager.delete_server(server_node.id)"
   ]
  },
  {
   "cell_type": "markdown",
   "id": "valid-realtor",
   "metadata": {},
   "source": [
    "##### Delete Cache Node\n",
    "\n",
    "Delete all of your cache nodes when experimentation is complete."
   ]
  },
  {
   "cell_type": "code",
   "execution_count": null,
   "id": "informal-creativity",
   "metadata": {},
   "outputs": [],
   "source": [
    "while len(cache_nodes) > 0:\n",
    "    node = cache_nodes.pop()\n",
    "    server_manager.delete_server(node.id)"
   ]
  },
  {
   "cell_type": "markdown",
   "id": "insured-advance",
   "metadata": {},
   "source": [
    "##### Delete Client Nodes\n",
    "\n",
    "Delete all of your client nodes when experimentation is complete. This is done using the client_nodes list (as we want to delete `ERROR` status nodes as well)."
   ]
  },
  {
   "cell_type": "code",
   "execution_count": null,
   "id": "biblical-lincoln",
   "metadata": {},
   "outputs": [],
   "source": [
    "while len(client_nodes) > 0:\n",
    "    node = client_nodes.pop()\n",
    "    server_manager.delete_server(node.id)"
   ]
  }
 ],
 "metadata": {
  "kernelspec": {
   "display_name": "Python 3",
   "language": "python",
   "name": "python3"
  },
  "language_info": {
   "codemirror_mode": {
    "name": "ipython",
    "version": 3
   },
   "file_extension": ".py",
   "mimetype": "text/x-python",
   "name": "python",
   "nbconvert_exporter": "python",
   "pygments_lexer": "ipython3",
   "version": "3.8.8"
  }
 },
 "nbformat": 4,
 "nbformat_minor": 5
}
